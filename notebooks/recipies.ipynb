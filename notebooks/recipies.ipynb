{
 "cells": [
  {
   "cell_type": "markdown",
   "metadata": {},
   "source": [
    "# Product matching for recipes"
   ]
  },
  {
   "cell_type": "code",
   "execution_count": 2,
   "metadata": {
    "tags": []
   },
   "outputs": [
    {
     "name": "stdout",
     "output_type": "stream",
     "text": [
      "Requirement already satisfied: beautifulsoup4==4.12.2 in /opt/conda/lib/python3.10/site-packages (from -r requirements.txt (line 1)) (4.12.2)\n",
      "Requirement already satisfied: requests==2.31.0 in /opt/conda/lib/python3.10/site-packages (from -r requirements.txt (line 2)) (2.31.0)\n",
      "Requirement already satisfied: backoff==2.2.1 in /opt/conda/lib/python3.10/site-packages (from -r requirements.txt (line 3)) (2.2.1)\n",
      "Requirement already satisfied: attrs==23.1.0 in /opt/conda/lib/python3.10/site-packages (from -r requirements.txt (line 4)) (23.1.0)\n",
      "Requirement already satisfied: boto3>=1.28.57 in /opt/conda/lib/python3.10/site-packages (from -r requirements.txt (line 5)) (1.28.57)\n",
      "Requirement already satisfied: botocore>=1.31.57 in /opt/conda/lib/python3.10/site-packages (from -r requirements.txt (line 6)) (1.31.57)\n",
      "Requirement already satisfied: soupsieve>1.2 in /opt/conda/lib/python3.10/site-packages (from beautifulsoup4==4.12.2->-r requirements.txt (line 1)) (2.3.1)\n",
      "Requirement already satisfied: charset-normalizer<4,>=2 in /opt/conda/lib/python3.10/site-packages (from requests==2.31.0->-r requirements.txt (line 2)) (2.0.4)\n",
      "Requirement already satisfied: idna<4,>=2.5 in /opt/conda/lib/python3.10/site-packages (from requests==2.31.0->-r requirements.txt (line 2)) (3.3)\n",
      "Requirement already satisfied: urllib3<3,>=1.21.1 in /opt/conda/lib/python3.10/site-packages (from requests==2.31.0->-r requirements.txt (line 2)) (1.26.17)\n",
      "Requirement already satisfied: certifi>=2017.4.17 in /opt/conda/lib/python3.10/site-packages (from requests==2.31.0->-r requirements.txt (line 2)) (2023.7.22)\n",
      "Requirement already satisfied: jmespath<2.0.0,>=0.7.1 in /opt/conda/lib/python3.10/site-packages (from boto3>=1.28.57->-r requirements.txt (line 5)) (0.10.0)\n",
      "Requirement already satisfied: s3transfer<0.8.0,>=0.7.0 in /opt/conda/lib/python3.10/site-packages (from boto3>=1.28.57->-r requirements.txt (line 5)) (0.7.0)\n",
      "Requirement already satisfied: python-dateutil<3.0.0,>=2.1 in /opt/conda/lib/python3.10/site-packages (from botocore>=1.31.57->-r requirements.txt (line 6)) (2.8.2)\n",
      "Requirement already satisfied: six>=1.5 in /opt/conda/lib/python3.10/site-packages (from python-dateutil<3.0.0,>=2.1->botocore>=1.31.57->-r requirements.txt (line 6)) (1.16.0)\n",
      "\u001b[33mWARNING: Running pip as the 'root' user can result in broken permissions and conflicting behaviour with the system package manager. It is recommended to use a virtual environment instead: https://pip.pypa.io/warnings/venv\u001b[0m\u001b[33m\n",
      "\u001b[0mProcessing ./bedrock_fm-0.1.0-py3-none-any.whl\n",
      "Requirement already satisfied: boto3>=1.28.57 in /opt/conda/lib/python3.10/site-packages (from bedrock-fm==0.1.0) (1.28.57)\n",
      "Requirement already satisfied: botocore>=1.31.57 in /opt/conda/lib/python3.10/site-packages (from bedrock-fm==0.1.0) (1.31.57)\n",
      "Requirement already satisfied: attrs<24.0.0,>=23.1.0 in /opt/conda/lib/python3.10/site-packages (from bedrock-fm==0.1.0) (23.1.0)\n",
      "Requirement already satisfied: jmespath<2.0.0,>=0.7.1 in /opt/conda/lib/python3.10/site-packages (from boto3>=1.28.57->bedrock-fm==0.1.0) (0.10.0)\n",
      "Requirement already satisfied: s3transfer<0.8.0,>=0.7.0 in /opt/conda/lib/python3.10/site-packages (from boto3>=1.28.57->bedrock-fm==0.1.0) (0.7.0)\n",
      "Requirement already satisfied: python-dateutil<3.0.0,>=2.1 in /opt/conda/lib/python3.10/site-packages (from botocore>=1.31.57->bedrock-fm==0.1.0) (2.8.2)\n",
      "Requirement already satisfied: urllib3<1.27,>=1.25.4 in /opt/conda/lib/python3.10/site-packages (from botocore>=1.31.57->bedrock-fm==0.1.0) (1.26.17)\n",
      "Requirement already satisfied: six>=1.5 in /opt/conda/lib/python3.10/site-packages (from python-dateutil<3.0.0,>=2.1->botocore>=1.31.57->bedrock-fm==0.1.0) (1.16.0)\n",
      "bedrock-fm is already installed with the same version as the provided wheel. Use --force-reinstall to force an installation of the wheel.\n",
      "\u001b[33mWARNING: Running pip as the 'root' user can result in broken permissions and conflicting behaviour with the system package manager. It is recommended to use a virtual environment instead: https://pip.pypa.io/warnings/venv\u001b[0m\u001b[33m\n",
      "\u001b[0m"
     ]
    }
   ],
   "source": [
    "# Uncomment to install the dependencies\n",
    "!pip install -r requirements.txt\n",
    "!pip install bedrock_fm-0.1.0-py3-none-any.whl"
   ]
  },
  {
   "cell_type": "code",
   "execution_count": 33,
   "metadata": {
    "tags": []
   },
   "outputs": [
    {
     "name": "stdout",
     "output_type": "stream",
     "text": [
      "Found existing installation: bedrock-fm 0.1.0\n",
      "Uninstalling bedrock-fm-0.1.0:\n",
      "  Successfully uninstalled bedrock-fm-0.1.0\n",
      "\u001b[33mWARNING: Running pip as the 'root' user can result in broken permissions and conflicting behaviour with the system package manager. It is recommended to use a virtual environment instead: https://pip.pypa.io/warnings/venv\u001b[0m\u001b[33m\n",
      "\u001b[0m"
     ]
    }
   ],
   "source": [
    "#!pip uninstall --yes bedrock_fm-0.1.0-py3-none-any.whl"
   ]
  },
  {
   "cell_type": "code",
   "execution_count": 3,
   "metadata": {
    "tags": []
   },
   "outputs": [],
   "source": [
    "from bs4 import BeautifulSoup\n",
    "import requests\n",
    "from bedrock_fm import AI21Mid, ClaudeInstantV1, TitanLarge\n",
    "import boto3\n",
    "import  backoff\n",
    "import logging\n",
    "import json\n",
    "logger = logging.getLogger()"
   ]
  },
  {
   "cell_type": "code",
   "execution_count": 4,
   "metadata": {
    "tags": []
   },
   "outputs": [],
   "source": [
    "#recipe_url = \"https://www.hemkop.se/recept/aggburgare\"\n",
    "recipe_url= \"https://www.hemkop.se/recept/flaskkarre_porchetta\""
   ]
  },
  {
   "cell_type": "code",
   "execution_count": 5,
   "metadata": {
    "tags": []
   },
   "outputs": [],
   "source": [
    "resp = requests.get(recipe_url)\n",
    "bd = BeautifulSoup(resp.content)"
   ]
  },
  {
   "cell_type": "markdown",
   "metadata": {},
   "source": [
    "Let's find the element with \"Ingredienser\" and get the ancestors"
   ]
  },
  {
   "cell_type": "code",
   "execution_count": 6,
   "metadata": {
    "tags": []
   },
   "outputs": [],
   "source": [
    "doc = bd.find(string=\"Ingredienser\").parent.parent"
   ]
  },
  {
   "cell_type": "markdown",
   "metadata": {},
   "source": [
    "Get all the items"
   ]
  },
  {
   "cell_type": "code",
   "execution_count": 7,
   "metadata": {
    "tags": []
   },
   "outputs": [
    {
     "data": {
      "text/plain": [
       "['2 msk fänkålsfrön, rostade i torr panna',\n",
       " '1 msk grovsalt',\n",
       " '2 tsk grovkrossade svartpepparkorn',\n",
       " '1 tsk chiliflakes',\n",
       " '2 kg benfri fläskkarré',\n",
       " 'finrivet skal från 1 citron',\n",
       " '6 hackade vitlöksklyftor',\n",
       " '2 msk olivolja',\n",
       " '2 dl vitt vin',\n",
       " '2 dl utspädd kycklingbuljong',\n",
       " 'bindgarn']"
      ]
     },
     "execution_count": 7,
     "metadata": {},
     "output_type": "execute_result"
    }
   ],
   "source": [
    "items=[]\n",
    "for p in doc.select('p'):\n",
    "    items += p.getText().split('\\n')\n",
    "\n",
    "items\n"
   ]
  },
  {
   "cell_type": "markdown",
   "metadata": {},
   "source": [
    "Let's use an LLM to get the ingredient name (and if we want also quantity), from the ingredient list"
   ]
  },
  {
   "cell_type": "code",
   "execution_count": 13,
   "metadata": {
    "tags": []
   },
   "outputs": [],
   "source": [
    "session = boto3.Session(region_name='us-west-2')\n",
    "bedrock = session.client('bedrock-runtime')\n",
    "client = boto3.client( service_name='bedrock',region_name='us-west-2')"
   ]
  },
  {
   "cell_type": "code",
   "execution_count": 19,
   "metadata": {
    "tags": []
   },
   "outputs": [],
   "source": [
    "import requests"
   ]
  },
  {
   "cell_type": "code",
   "execution_count": 20,
   "metadata": {
    "tags": []
   },
   "outputs": [],
   "source": [
    "URL = f\"https://59s1etw4kf.execute-api.eu-west-1.amazonaws.com/api/get_products?url={recipe_url}\""
   ]
  },
  {
   "cell_type": "code",
   "execution_count": null,
   "metadata": {
    "tags": []
   },
   "outputs": [],
   "source": [
    "# Send a GET request to the URL to list all indices\n",
    "response = requests.get(URL)\n",
    "\n",
    "print(response.status_code )\n",
    "# Check if the request was successful\n",
    "if response.status_code == 200:\n",
    "    # Log the response text (list of indices)\n",
    "    #logger.info(response)\n",
    "    print(response.json())\n",
    "else:\n",
    "    # Log an error message if the request was unsuccessful\n",
    "    logger.error(f'Failed to list indices. Status code: {response.status_code}, Response: {response.text}')"
   ]
  },
  {
   "cell_type": "code",
   "execution_count": 9,
   "metadata": {
    "tags": []
   },
   "outputs": [],
   "source": [
    "ai21mid = AI21Mid(client=bedrock)\n",
    "ci = ClaudeInstantV1(client=bedrock, token_count=2000, temperature=0.2)\n"
   ]
  },
  {
   "cell_type": "markdown",
   "metadata": {},
   "source": [
    "We are going to use Claude since we need multilingual capabilities"
   ]
  },
  {
   "cell_type": "code",
   "execution_count": 10,
   "metadata": {
    "tags": []
   },
   "outputs": [],
   "source": [
    "@backoff.on_exception(backoff.expo, bedrock.exceptions.ThrottlingException)\n",
    "def get_ingredients_from_list(ingredient_list):\n",
    "    return ci.generate(\"\"\"From the following ingredient list in swedish extract the swedish name of the ingredient, the quantity and the unit of measure for each item. \n",
    "Create a JSON document containing: the simple ingredient name in swedish, the quantity and the unit of measure. Use the fields: ingredient, quantity, unit. \n",
    "Quantity must be a number. Ingredients are nouns only. The answer contains only the JSON document.\n",
    "\n",
    "{}\"\"\".format(\"\\n\".join([i for i in ingredient_list if i.upper() != i])))[0].strip()\n"
   ]
  },
  {
   "cell_type": "markdown",
   "metadata": {},
   "source": [
    "A naive approach would be to call the LLM for every ingredient, but this is going to encounter throttling"
   ]
  },
  {
   "cell_type": "code",
   "execution_count": 11,
   "metadata": {
    "tags": []
   },
   "outputs": [
    {
     "data": {
      "text/plain": [
       "'[\\n  {\\n    \"ingredient\": \"fänkålsfrön\",\\n    \"quantity\": 2,\\n    \"unit\": \"msk\"\\n  },\\n  {\\n    \"ingredient\": \"grovsalt\", \\n    \"quantity\": 1,\\n    \"unit\": \"msk\"\\n  }, \\n  {\\n    \"ingredient\": \"svartpepparkorn\",\\n    \"quantity\": 2,\\n    \"unit\": \"tsk\"\\n  },\\n  {\\n    \"ingredient\": \"chiliflakes\",\\n    \"quantity\": 1,\\n    \"unit\": \"tsk\"\\n  },\\n  {\\n    \"ingredient\": \"fläskkarré\",\\n    \"quantity\": 2,\\n    \"unit\": \"kg\"\\n  },\\n  {\\n    \"ingredient\": \"citron\",\\n    \"quantity\": \"finrivet skal från 1\",\\n    \"unit\": \"\"\\n  },\\n  {\\n    \"ingredient\": \"vitlöksklyftor\",\\n    \"quantity\": 6,\\n    \"unit\": \"hackade\"\\n  },\\n  {\\n    \"ingredient\": \"olivolja\",\\n    \"quantity\": 2,\\n    \"unit\": \"msk\" \\n  },\\n  {\\n    \"ingredient\": \"vin\",\\n    \"quantity\": 2,\\n    \"unit\": \"dl\"\\n  },\\n  {\\n    \"ingredient\": \"kycklingbuljong\",\\n    \"quantity\": 2,\\n    \"unit\": \"dl utspädd\"\\n  },\\n  {\\n    \"ingredient\": \"bindgarn\",\\n    \"quantity\": \"\",\\n    \"unit\": \"\"\\n  }\\n]'"
      ]
     },
     "execution_count": 11,
     "metadata": {},
     "output_type": "execute_result"
    }
   ],
   "source": [
    "resp = get_ingredients_from_list(items)\n",
    "resp"
   ]
  },
  {
   "cell_type": "code",
   "execution_count": 14,
   "metadata": {
    "tags": []
   },
   "outputs": [
    {
     "data": {
      "text/plain": [
       "{'ResponseMetadata': {'RequestId': '4535a063-d7b1-4000-89b8-b544dfa6269f',\n",
       "  'HTTPStatusCode': 200,\n",
       "  'HTTPHeaders': {'date': 'Sat, 07 Oct 2023 22:19:14 GMT',\n",
       "   'content-type': 'application/json',\n",
       "   'content-length': '5729',\n",
       "   'connection': 'keep-alive',\n",
       "   'x-amzn-requestid': '4535a063-d7b1-4000-89b8-b544dfa6269f'},\n",
       "  'RetryAttempts': 0},\n",
       " 'modelSummaries': [{'customizationsSupported': ['FINE_TUNING'],\n",
       "   'inferenceTypesSupported': ['ON_DEMAND'],\n",
       "   'inputModalities': ['TEXT'],\n",
       "   'modelArn': 'arn:aws:bedrock:us-west-2::foundation-model/amazon.titan-tg1-large',\n",
       "   'modelId': 'amazon.titan-tg1-large',\n",
       "   'modelName': 'Titan Text Large',\n",
       "   'outputModalities': ['TEXT'],\n",
       "   'providerName': 'Amazon',\n",
       "   'responseStreamingSupported': True},\n",
       "  {'customizationsSupported': [],\n",
       "   'inferenceTypesSupported': ['ON_DEMAND'],\n",
       "   'inputModalities': ['TEXT'],\n",
       "   'modelArn': 'arn:aws:bedrock:us-west-2::foundation-model/amazon.titan-e1t-medium',\n",
       "   'modelId': 'amazon.titan-e1t-medium',\n",
       "   'modelName': 'Titan Text Embeddings',\n",
       "   'outputModalities': ['EMBEDDING'],\n",
       "   'providerName': 'Amazon'},\n",
       "  {'customizationsSupported': [],\n",
       "   'inferenceTypesSupported': ['ON_DEMAND'],\n",
       "   'inputModalities': ['TEXT'],\n",
       "   'modelArn': 'arn:aws:bedrock:us-west-2::foundation-model/amazon.titan-embed-g1-text-02',\n",
       "   'modelId': 'amazon.titan-embed-g1-text-02',\n",
       "   'modelName': 'Titan Text Embeddings v2',\n",
       "   'outputModalities': ['EMBEDDING'],\n",
       "   'providerName': 'Amazon'},\n",
       "  {'customizationsSupported': [],\n",
       "   'inferenceTypesSupported': ['ON_DEMAND'],\n",
       "   'inputModalities': ['TEXT'],\n",
       "   'modelArn': 'arn:aws:bedrock:us-west-2::foundation-model/amazon.titan-text-express-v1',\n",
       "   'modelId': 'amazon.titan-text-express-v1',\n",
       "   'modelName': 'Titan Text G1 - Express',\n",
       "   'outputModalities': ['TEXT'],\n",
       "   'providerName': 'Amazon',\n",
       "   'responseStreamingSupported': True},\n",
       "  {'customizationsSupported': [],\n",
       "   'inferenceTypesSupported': ['ON_DEMAND'],\n",
       "   'inputModalities': ['TEXT'],\n",
       "   'modelArn': 'arn:aws:bedrock:us-west-2::foundation-model/amazon.titan-embed-text-v1',\n",
       "   'modelId': 'amazon.titan-embed-text-v1',\n",
       "   'modelName': 'Titan Embeddings G1 - Text',\n",
       "   'outputModalities': ['EMBEDDING'],\n",
       "   'providerName': 'Amazon',\n",
       "   'responseStreamingSupported': True},\n",
       "  {'customizationsSupported': [],\n",
       "   'inferenceTypesSupported': ['ON_DEMAND'],\n",
       "   'inputModalities': ['TEXT', 'IMAGE'],\n",
       "   'modelArn': 'arn:aws:bedrock:us-west-2::foundation-model/stability.stable-diffusion-xl',\n",
       "   'modelId': 'stability.stable-diffusion-xl',\n",
       "   'modelName': 'Stable Diffusion XL',\n",
       "   'outputModalities': ['IMAGE'],\n",
       "   'providerName': 'Stability AI'},\n",
       "  {'customizationsSupported': [],\n",
       "   'inferenceTypesSupported': ['ON_DEMAND'],\n",
       "   'inputModalities': ['TEXT', 'IMAGE'],\n",
       "   'modelArn': 'arn:aws:bedrock:us-west-2::foundation-model/stability.stable-diffusion-xl-v0',\n",
       "   'modelId': 'stability.stable-diffusion-xl-v0',\n",
       "   'modelName': 'Stable Diffusion XL',\n",
       "   'outputModalities': ['IMAGE'],\n",
       "   'providerName': 'Stability AI'},\n",
       "  {'customizationsSupported': [],\n",
       "   'inferenceTypesSupported': ['ON_DEMAND'],\n",
       "   'inputModalities': ['TEXT'],\n",
       "   'modelArn': 'arn:aws:bedrock:us-west-2::foundation-model/ai21.j2-grande-instruct',\n",
       "   'modelId': 'ai21.j2-grande-instruct',\n",
       "   'modelName': 'J2 Grande Instruct',\n",
       "   'outputModalities': ['TEXT'],\n",
       "   'providerName': 'AI21 Labs',\n",
       "   'responseStreamingSupported': False},\n",
       "  {'customizationsSupported': [],\n",
       "   'inferenceTypesSupported': ['ON_DEMAND'],\n",
       "   'inputModalities': ['TEXT'],\n",
       "   'modelArn': 'arn:aws:bedrock:us-west-2::foundation-model/ai21.j2-jumbo-instruct',\n",
       "   'modelId': 'ai21.j2-jumbo-instruct',\n",
       "   'modelName': 'J2 Jumbo Instruct',\n",
       "   'outputModalities': ['TEXT'],\n",
       "   'providerName': 'AI21 Labs',\n",
       "   'responseStreamingSupported': False},\n",
       "  {'customizationsSupported': [],\n",
       "   'inferenceTypesSupported': ['ON_DEMAND'],\n",
       "   'inputModalities': ['TEXT'],\n",
       "   'modelArn': 'arn:aws:bedrock:us-west-2::foundation-model/ai21.j2-mid',\n",
       "   'modelId': 'ai21.j2-mid',\n",
       "   'modelName': 'Jurassic-2 Mid',\n",
       "   'outputModalities': ['TEXT'],\n",
       "   'providerName': 'AI21 Labs',\n",
       "   'responseStreamingSupported': False},\n",
       "  {'customizationsSupported': [],\n",
       "   'inferenceTypesSupported': ['ON_DEMAND'],\n",
       "   'inputModalities': ['TEXT'],\n",
       "   'modelArn': 'arn:aws:bedrock:us-west-2::foundation-model/ai21.j2-mid-v1',\n",
       "   'modelId': 'ai21.j2-mid-v1',\n",
       "   'modelName': 'Jurassic-2 Mid',\n",
       "   'outputModalities': ['TEXT'],\n",
       "   'providerName': 'AI21 Labs',\n",
       "   'responseStreamingSupported': False},\n",
       "  {'customizationsSupported': [],\n",
       "   'inferenceTypesSupported': ['ON_DEMAND'],\n",
       "   'inputModalities': ['TEXT'],\n",
       "   'modelArn': 'arn:aws:bedrock:us-west-2::foundation-model/ai21.j2-ultra',\n",
       "   'modelId': 'ai21.j2-ultra',\n",
       "   'modelName': 'Jurassic-2 Ultra',\n",
       "   'outputModalities': ['TEXT'],\n",
       "   'providerName': 'AI21 Labs',\n",
       "   'responseStreamingSupported': False},\n",
       "  {'customizationsSupported': [],\n",
       "   'inferenceTypesSupported': ['ON_DEMAND'],\n",
       "   'inputModalities': ['TEXT'],\n",
       "   'modelArn': 'arn:aws:bedrock:us-west-2::foundation-model/ai21.j2-ultra-v1',\n",
       "   'modelId': 'ai21.j2-ultra-v1',\n",
       "   'modelName': 'Jurassic-2 Ultra',\n",
       "   'outputModalities': ['TEXT'],\n",
       "   'providerName': 'AI21 Labs',\n",
       "   'responseStreamingSupported': False},\n",
       "  {'customizationsSupported': [],\n",
       "   'inferenceTypesSupported': ['ON_DEMAND'],\n",
       "   'inputModalities': ['TEXT'],\n",
       "   'modelArn': 'arn:aws:bedrock:us-west-2::foundation-model/anthropic.claude-instant-v1',\n",
       "   'modelId': 'anthropic.claude-instant-v1',\n",
       "   'modelName': 'Claude Instant',\n",
       "   'outputModalities': ['TEXT'],\n",
       "   'providerName': 'Anthropic',\n",
       "   'responseStreamingSupported': True},\n",
       "  {'customizationsSupported': [],\n",
       "   'inferenceTypesSupported': ['ON_DEMAND'],\n",
       "   'inputModalities': ['TEXT'],\n",
       "   'modelArn': 'arn:aws:bedrock:us-west-2::foundation-model/anthropic.claude-v1',\n",
       "   'modelId': 'anthropic.claude-v1',\n",
       "   'modelName': 'Claude',\n",
       "   'outputModalities': ['TEXT'],\n",
       "   'providerName': 'Anthropic',\n",
       "   'responseStreamingSupported': True},\n",
       "  {'customizationsSupported': [],\n",
       "   'inferenceTypesSupported': ['ON_DEMAND'],\n",
       "   'inputModalities': ['TEXT'],\n",
       "   'modelArn': 'arn:aws:bedrock:us-west-2::foundation-model/anthropic.claude-v2',\n",
       "   'modelId': 'anthropic.claude-v2',\n",
       "   'modelName': 'Claude',\n",
       "   'outputModalities': ['TEXT'],\n",
       "   'providerName': 'Anthropic',\n",
       "   'responseStreamingSupported': True},\n",
       "  {'customizationsSupported': [],\n",
       "   'inferenceTypesSupported': ['ON_DEMAND'],\n",
       "   'inputModalities': ['TEXT'],\n",
       "   'modelArn': 'arn:aws:bedrock:us-west-2::foundation-model/cohere.command-text-v14',\n",
       "   'modelId': 'cohere.command-text-v14',\n",
       "   'modelName': 'Command',\n",
       "   'outputModalities': ['TEXT'],\n",
       "   'providerName': 'Cohere',\n",
       "   'responseStreamingSupported': True}]}"
      ]
     },
     "execution_count": 14,
     "metadata": {},
     "output_type": "execute_result"
    }
   ],
   "source": [
    "\n",
    "\n",
    "client.list_foundation_models()\n",
    "\n"
   ]
  },
  {
   "cell_type": "code",
   "execution_count": 15,
   "metadata": {
    "tags": []
   },
   "outputs": [],
   "source": [
    "prompt = \"\"\"From the following ingredient list in swedish extract the swedish name of the ingredient, the quantity and the unit of measure for each item. \n",
    "Create a JSON document containing: the simple ingredient name in swedish, the quantity and the unit of measure. Use the fields: ingredient, quantity, unit. \n",
    "Quantity must be a number. Ingredients are nouns only. The answer contains only the JSON document.\n",
    "\n",
    "{}\"\"\".format(\"\\n\".join([i for i in items if i.upper() != i]))"
   ]
  },
  {
   "cell_type": "code",
   "execution_count": 16,
   "metadata": {
    "tags": []
   },
   "outputs": [],
   "source": [
    "\n",
    "body =json.dumps( {\n",
    "    \"prompt\": f\"Human: {prompt}\\n\\nAssistant:\",\n",
    "    \"max_tokens_to_sample\": 2000,\n",
    "    \"stop_sequences\": [],\n",
    "    \"temperature\": 0.2,\n",
    "    \"top_p\": 1,\n",
    "    \"anthropic_version\": \"bedrock-2023-05-31\",\n",
    "})\n",
    "\n",
    "resp = bedrock.invoke_model(\n",
    "modelId=\"anthropic.claude-instant-v1\",\n",
    "body=body,\n",
    "contentType=\"application/json\",\n",
    "accept=\"*/*\",\n",
    ")"
   ]
  },
  {
   "cell_type": "code",
   "execution_count": 19,
   "metadata": {
    "tags": []
   },
   "outputs": [
    {
     "name": "stdout",
     "output_type": "stream",
     "text": [
      " [\n",
      "  {\n",
      "    \"ingredient\": \"fänkålsfrön\",\n",
      "    \"quantity\": 2,\n",
      "    \"unit\": \"msk\"\n",
      "  },\n",
      "  {\n",
      "    \"ingredient\": \"grovsalt\", \n",
      "    \"quantity\": 1,\n",
      "    \"unit\": \"msk\"\n",
      "  }, \n",
      "  {\n",
      "    \"ingredient\": \"svartpepparkorn\",\n",
      "    \"quantity\": 2,\n",
      "    \"unit\": \"tsk\"\n",
      "  },\n",
      "  {\n",
      "    \"ingredient\": \"chiliflakes\",\n",
      "    \"quantity\": 1,\n",
      "    \"unit\": \"tsk\"\n",
      "  },\n",
      "  {\n",
      "    \"ingredient\": \"fläskkarré\",\n",
      "    \"quantity\": 2,\n",
      "    \"unit\": \"kg\"\n",
      "  },\n",
      "  {\n",
      "    \"ingredient\": \"vitlök\",\n",
      "    \"quantity\": 6,\n",
      "    \"unit\": \"klyftor\"\n",
      "  },\n",
      "  {\n",
      "    \"ingredient\": \"olivolja\",\n",
      "    \"quantity\": 2,\n",
      "    \"unit\": \"msk\"\n",
      "  },\n",
      "  {\n",
      "    \"ingredient\": \"vin\",\n",
      "    \"quantity\": 2,\n",
      "    \"unit\": \"dl\" \n",
      "  },\n",
      "  {\n",
      "    \"ingredient\": \"kycklingbuljong\",\n",
      "    \"quantity\": 2,\n",
      "    \"unit\": \"dl\"\n",
      "  }\n",
      "]\n"
     ]
    }
   ],
   "source": [
    "response_body = json.loads(resp.get(\"body\").read())\n",
    "\n",
    "print(response_body.get(\"completion\"))"
   ]
  },
  {
   "cell_type": "code",
   "execution_count": 17,
   "metadata": {
    "tags": []
   },
   "outputs": [
    {
     "ename": "TypeError",
     "evalue": "the JSON object must be str, bytes or bytearray, not dict",
     "output_type": "error",
     "traceback": [
      "\u001b[0;31m---------------------------------------------------------------------------\u001b[0m",
      "\u001b[0;31mTypeError\u001b[0m                                 Traceback (most recent call last)",
      "Cell \u001b[0;32mIn[17], line 1\u001b[0m\n\u001b[0;32m----> 1\u001b[0m \u001b[43mjson\u001b[49m\u001b[38;5;241;43m.\u001b[39;49m\u001b[43mloads\u001b[49m\u001b[43m(\u001b[49m\u001b[43mresp\u001b[49m\u001b[43m)\u001b[49m\n",
      "File \u001b[0;32m/opt/conda/lib/python3.10/json/__init__.py:339\u001b[0m, in \u001b[0;36mloads\u001b[0;34m(s, cls, object_hook, parse_float, parse_int, parse_constant, object_pairs_hook, **kw)\u001b[0m\n\u001b[1;32m    337\u001b[0m \u001b[38;5;28;01melse\u001b[39;00m:\n\u001b[1;32m    338\u001b[0m     \u001b[38;5;28;01mif\u001b[39;00m \u001b[38;5;129;01mnot\u001b[39;00m \u001b[38;5;28misinstance\u001b[39m(s, (\u001b[38;5;28mbytes\u001b[39m, \u001b[38;5;28mbytearray\u001b[39m)):\n\u001b[0;32m--> 339\u001b[0m         \u001b[38;5;28;01mraise\u001b[39;00m \u001b[38;5;167;01mTypeError\u001b[39;00m(\u001b[38;5;124mf\u001b[39m\u001b[38;5;124m'\u001b[39m\u001b[38;5;124mthe JSON object must be str, bytes or bytearray, \u001b[39m\u001b[38;5;124m'\u001b[39m\n\u001b[1;32m    340\u001b[0m                         \u001b[38;5;124mf\u001b[39m\u001b[38;5;124m'\u001b[39m\u001b[38;5;124mnot \u001b[39m\u001b[38;5;132;01m{\u001b[39;00ms\u001b[38;5;241m.\u001b[39m\u001b[38;5;18m__class__\u001b[39m\u001b[38;5;241m.\u001b[39m\u001b[38;5;18m__name__\u001b[39m\u001b[38;5;132;01m}\u001b[39;00m\u001b[38;5;124m'\u001b[39m)\n\u001b[1;32m    341\u001b[0m     s \u001b[38;5;241m=\u001b[39m s\u001b[38;5;241m.\u001b[39mdecode(detect_encoding(s), \u001b[38;5;124m'\u001b[39m\u001b[38;5;124msurrogatepass\u001b[39m\u001b[38;5;124m'\u001b[39m)\n\u001b[1;32m    343\u001b[0m \u001b[38;5;28;01mif\u001b[39;00m (\u001b[38;5;28mcls\u001b[39m \u001b[38;5;129;01mis\u001b[39;00m \u001b[38;5;28;01mNone\u001b[39;00m \u001b[38;5;129;01mand\u001b[39;00m object_hook \u001b[38;5;129;01mis\u001b[39;00m \u001b[38;5;28;01mNone\u001b[39;00m \u001b[38;5;129;01mand\u001b[39;00m\n\u001b[1;32m    344\u001b[0m         parse_int \u001b[38;5;129;01mis\u001b[39;00m \u001b[38;5;28;01mNone\u001b[39;00m \u001b[38;5;129;01mand\u001b[39;00m parse_float \u001b[38;5;129;01mis\u001b[39;00m \u001b[38;5;28;01mNone\u001b[39;00m \u001b[38;5;129;01mand\u001b[39;00m\n\u001b[1;32m    345\u001b[0m         parse_constant \u001b[38;5;129;01mis\u001b[39;00m \u001b[38;5;28;01mNone\u001b[39;00m \u001b[38;5;129;01mand\u001b[39;00m object_pairs_hook \u001b[38;5;129;01mis\u001b[39;00m \u001b[38;5;28;01mNone\u001b[39;00m \u001b[38;5;129;01mand\u001b[39;00m \u001b[38;5;129;01mnot\u001b[39;00m kw):\n",
      "\u001b[0;31mTypeError\u001b[0m: the JSON object must be str, bytes or bytearray, not dict"
     ]
    }
   ],
   "source": [
    "json.loads(resp)"
   ]
  },
  {
   "cell_type": "markdown",
   "metadata": {},
   "source": [
    "We create instead to pass the full list of ingredients and tell the LLM to extract the information we want:"
   ]
  },
  {
   "cell_type": "code",
   "execution_count": 78,
   "metadata": {},
   "outputs": [
    {
     "data": {
      "text/plain": [
       "['hamburgerbröd',\n",
       " 'ägg',\n",
       " 'salladsmix',\n",
       " 'spenat',\n",
       " 'tomat',\n",
       " 'ost',\n",
       " 'rostad lök',\n",
       " 'inlagd gurka',\n",
       " 'nacho chips',\n",
       " 'chilimajonnäs',\n",
       " 'ketchup',\n",
       " 'krossade tomater',\n",
       " 'äppelcidervinäger',\n",
       " 'socker',\n",
       " 'lagerblad',\n",
       " 'kanel',\n",
       " 'kryddnejlikor',\n",
       " 'tomatpuré',\n",
       " 'salt',\n",
       " 'potatismjöl',\n",
       " 'vatten']"
      ]
     },
     "execution_count": 78,
     "metadata": {},
     "output_type": "execute_result"
    }
   ],
   "source": [
    "ingredient_names = [i.strip() for i in get_ingredients_from_list(items).split(\"\\n\")]\n",
    "ingredient_names"
   ]
  },
  {
   "cell_type": "markdown",
   "metadata": {},
   "source": [
    "Next, we use the site search functionality to get the matching products from the shop. This is a naive approach, and could be enhanced by using some additional logic to match ingredients to the recipe for example by \"learning\" from other recipes. For example instead of Hushallsost one would prefer som cheese that better matches the recipe of hamburgers"
   ]
  },
  {
   "cell_type": "code",
   "execution_count": 103,
   "metadata": {},
   "outputs": [],
   "source": [
    "import requests\n",
    "import json\n",
    "\n",
    "search = \"https://www.hemkop.se/search?size=30&page=0&q={query}&sort=relevance\"\n",
    "\n",
    "match_prod = []\n",
    "for i in ingredient_names:\n",
    "    resp = requests.get(search.format(query=i))\n",
    "    prod = json.loads(resp.content)[\"results\"][0]\n",
    "    match_prod.append({\"ingredient\": i, \"product\": prod})\n",
    "\n",
    "#match_prod"
   ]
  },
  {
   "cell_type": "code",
   "execution_count": 91,
   "metadata": {},
   "outputs": [
    {
     "name": "stdout",
     "output_type": "stream",
     "text": [
      "hamburgerbröd       Hamburgerbröd Brioche 4-pack             Garant          101237094_ST\n",
      "ägg                 Ägg 10p Frigående Utomhus Medium/large   Garant          101218667_ST\n",
      "salladsmix          Salladsmix Roman Lollo Klass 1           Garant Eko      101281470_ST\n",
      "spenat              Babyspenat Ekologisk Klass 1             Garant Eko      101240156_ST\n",
      "tomat               Tomater Kvist Sverige Klass 1                            101215340_KG\n",
      "ost                 Hushållsost 26%                          Arla            101197477_KG\n",
      "rostad lök          Lök Rostad                               Eldorado        101260936_ST\n",
      "inlagd gurka        Smörgåsgurka Skivad                      Felix           100532210_ST\n",
      "nacho chips         Nacho Chips Original                     Santa Maria     101247212_ST\n",
      "chilimajonnäs       Majonnäs Korean Chili                    Uma             101514798_ST\n",
      "ketchup             Tomatketchup                             Heinz           100365418_ST\n",
      "krossade tomater    Tomater Krossade                         Garant Eko      101299599_ST\n",
      "äppelcidervinäger   Äppelcider Vinäger                       Garant Eko      101246316_ST\n",
      "socker              Strösocker                               Garant          101151076_ST\n",
      "lagerblad           Lagerblad Hela                           Santa Maria     101262137_ST\n",
      "kanel               Kanel Malen Påse                         Eldorado        101197952_ST\n",
      "kryddnejlikor       Krydda Kött & Grill Påse                 Knorr           100013192_ST\n",
      "tomatpuré           Tomatpuré                                Eldorado        101427087_ST\n",
      "salt                Salt med Jod                             Jozo            101227778_ST\n",
      "potatismjöl         Potatismjöl                              Garant          101194703_ST\n",
      "vatten              Citron Kolsyrat Vatten Pet               Premier         101205991_ST\n"
     ]
    }
   ],
   "source": [
    "for m in match_prod:\n",
    "    print(f\"{m['ingredient']:20}{m['product']['name']:40} {(m['product']['manufacturer'] or ''):15} {m['product']['code']}\")"
   ]
  },
  {
   "cell_type": "markdown",
   "metadata": {},
   "source": [
    "Let's put all in a single function"
   ]
  },
  {
   "cell_type": "code",
   "execution_count": 22,
   "metadata": {},
   "outputs": [],
   "source": [
    "def get_matching_products(recipe_url):\n",
    "    resp = requests.get(recipe_url)\n",
    "    bd = BeautifulSoup(resp.content)\n",
    "    doc = bd.find(string=\"Ingredienser\").parent.parent\n",
    "    items=[]\n",
    "    for p in doc.select('p'):\n",
    "        items += p.getText().split('\\n')\n",
    "    ingredient_names = [i.strip() for i in get_ingredients_from_list(items).split(\"\\n\")]\n",
    "    search = \"https://www.hemkop.se/search?size=30&page=0&q={query}&sort=relevance\"\n",
    "\n",
    "    match_prod = []\n",
    "    logger.debug(ingredient_names)\n",
    "    print(ingredient_names)\n",
    "    for i in ingredient_names:\n",
    "        resp = requests.get(search.format(query=i))\n",
    "        results = json.loads(resp.content)[\"results\"]\n",
    "        if results is not None:\n",
    "            prod = results[0] \n",
    "            match_prod.append({\"ingredient\": i, \"product\": prod})\n",
    "        else: \n",
    "            match_prod.append({\"ingredient\": i, \"product\": None})\n",
    "    \n",
    "    return match_prod\n",
    "\n",
    "def print_ingredients(matches):\n",
    "    for m in matches:\n",
    "        if m['product'] is not None:\n",
    "            print(f\"{m['ingredient']:20}{m['product']['name']:40} {(m['product']['manufacturer'] or ''):15} {m['product']['code']}\")\n",
    "        else:\n",
    "            print(f\"{m['ingredient']:20}{'NO MATCH':40}\")"
   ]
  },
  {
   "cell_type": "code",
   "execution_count": 20,
   "metadata": {},
   "outputs": [
    {
     "name": "stdout",
     "output_type": "stream",
     "text": [
      "['picklad jalapeño', 'majonnäs', 'crème fraiche', 'salt', 'svartpeppar']\n",
      "picklad jalapeño    Green Jalapeño Hot                       Santa Maria     100295878_ST\n",
      "majonnäs            Majonnäs Äkta                            Kavli           100451529_ST\n",
      "crème fraiche       Crème Fraiche 32%                        Garant          101245382_ST\n",
      "salt                Salt med Jod                             Jozo            101227778_ST\n",
      "svartpeppar         Svartpeppar Hel Påse                     Eldorado        101197966_ST\n"
     ]
    }
   ],
   "source": [
    "print_ingredients(get_matching_products(\"https://www.hemkop.se/recept/snabb_jalapeno\"))"
   ]
  },
  {
   "cell_type": "code",
   "execution_count": 23,
   "metadata": {},
   "outputs": [
    {
     "name": "stdout",
     "output_type": "stream",
     "text": [
      "['• lättkokta haricots verts', '• blandade tomater', '• anjovis', '• selleriblad', '• gräslök', '• rödvinsvinäger', '• olivolja', '• flingsalt', '• peppar']\n",
      "• lättkokta haricots vertsHaricots Verts 3-pack                    Dáucy           100242417_ST\n",
      "• blandade tomater  Tomater Cocktail Klass 1                                 100814709_ST\n",
      "• anjovis           Sill Matjes i Bitar                      Eldorado        101353781_ST\n",
      "• selleriblad       \n",
      "• gräslök           Västkustchips Vitlök Gräslök Chili       Estrella        101264352_ST\n",
      "• rödvinsvinäger    Rödvinsvinäger                           Garant          101281863_ST\n",
      "• olivolja          Olivolja Gentile D-vitaminberikad        Zeta            101426939_ST\n",
      "• flingsalt         Flingsalt                                Garant          101213737_ST\n",
      "• peppar            Fem Peppar Bistro                        Blå Band        101205325_ST\n"
     ]
    }
   ],
   "source": [
    "print_ingredients(get_matching_products(\"https://www.hemkop.se/recept/sallad_tomater\"))"
   ]
  }
 ],
 "metadata": {
  "availableInstances": [
   {
    "_defaultOrder": 0,
    "_isFastLaunch": true,
    "category": "General purpose",
    "gpuNum": 0,
    "hideHardwareSpecs": false,
    "memoryGiB": 4,
    "name": "ml.t3.medium",
    "vcpuNum": 2
   },
   {
    "_defaultOrder": 1,
    "_isFastLaunch": false,
    "category": "General purpose",
    "gpuNum": 0,
    "hideHardwareSpecs": false,
    "memoryGiB": 8,
    "name": "ml.t3.large",
    "vcpuNum": 2
   },
   {
    "_defaultOrder": 2,
    "_isFastLaunch": false,
    "category": "General purpose",
    "gpuNum": 0,
    "hideHardwareSpecs": false,
    "memoryGiB": 16,
    "name": "ml.t3.xlarge",
    "vcpuNum": 4
   },
   {
    "_defaultOrder": 3,
    "_isFastLaunch": false,
    "category": "General purpose",
    "gpuNum": 0,
    "hideHardwareSpecs": false,
    "memoryGiB": 32,
    "name": "ml.t3.2xlarge",
    "vcpuNum": 8
   },
   {
    "_defaultOrder": 4,
    "_isFastLaunch": true,
    "category": "General purpose",
    "gpuNum": 0,
    "hideHardwareSpecs": false,
    "memoryGiB": 8,
    "name": "ml.m5.large",
    "vcpuNum": 2
   },
   {
    "_defaultOrder": 5,
    "_isFastLaunch": false,
    "category": "General purpose",
    "gpuNum": 0,
    "hideHardwareSpecs": false,
    "memoryGiB": 16,
    "name": "ml.m5.xlarge",
    "vcpuNum": 4
   },
   {
    "_defaultOrder": 6,
    "_isFastLaunch": false,
    "category": "General purpose",
    "gpuNum": 0,
    "hideHardwareSpecs": false,
    "memoryGiB": 32,
    "name": "ml.m5.2xlarge",
    "vcpuNum": 8
   },
   {
    "_defaultOrder": 7,
    "_isFastLaunch": false,
    "category": "General purpose",
    "gpuNum": 0,
    "hideHardwareSpecs": false,
    "memoryGiB": 64,
    "name": "ml.m5.4xlarge",
    "vcpuNum": 16
   },
   {
    "_defaultOrder": 8,
    "_isFastLaunch": false,
    "category": "General purpose",
    "gpuNum": 0,
    "hideHardwareSpecs": false,
    "memoryGiB": 128,
    "name": "ml.m5.8xlarge",
    "vcpuNum": 32
   },
   {
    "_defaultOrder": 9,
    "_isFastLaunch": false,
    "category": "General purpose",
    "gpuNum": 0,
    "hideHardwareSpecs": false,
    "memoryGiB": 192,
    "name": "ml.m5.12xlarge",
    "vcpuNum": 48
   },
   {
    "_defaultOrder": 10,
    "_isFastLaunch": false,
    "category": "General purpose",
    "gpuNum": 0,
    "hideHardwareSpecs": false,
    "memoryGiB": 256,
    "name": "ml.m5.16xlarge",
    "vcpuNum": 64
   },
   {
    "_defaultOrder": 11,
    "_isFastLaunch": false,
    "category": "General purpose",
    "gpuNum": 0,
    "hideHardwareSpecs": false,
    "memoryGiB": 384,
    "name": "ml.m5.24xlarge",
    "vcpuNum": 96
   },
   {
    "_defaultOrder": 12,
    "_isFastLaunch": false,
    "category": "General purpose",
    "gpuNum": 0,
    "hideHardwareSpecs": false,
    "memoryGiB": 8,
    "name": "ml.m5d.large",
    "vcpuNum": 2
   },
   {
    "_defaultOrder": 13,
    "_isFastLaunch": false,
    "category": "General purpose",
    "gpuNum": 0,
    "hideHardwareSpecs": false,
    "memoryGiB": 16,
    "name": "ml.m5d.xlarge",
    "vcpuNum": 4
   },
   {
    "_defaultOrder": 14,
    "_isFastLaunch": false,
    "category": "General purpose",
    "gpuNum": 0,
    "hideHardwareSpecs": false,
    "memoryGiB": 32,
    "name": "ml.m5d.2xlarge",
    "vcpuNum": 8
   },
   {
    "_defaultOrder": 15,
    "_isFastLaunch": false,
    "category": "General purpose",
    "gpuNum": 0,
    "hideHardwareSpecs": false,
    "memoryGiB": 64,
    "name": "ml.m5d.4xlarge",
    "vcpuNum": 16
   },
   {
    "_defaultOrder": 16,
    "_isFastLaunch": false,
    "category": "General purpose",
    "gpuNum": 0,
    "hideHardwareSpecs": false,
    "memoryGiB": 128,
    "name": "ml.m5d.8xlarge",
    "vcpuNum": 32
   },
   {
    "_defaultOrder": 17,
    "_isFastLaunch": false,
    "category": "General purpose",
    "gpuNum": 0,
    "hideHardwareSpecs": false,
    "memoryGiB": 192,
    "name": "ml.m5d.12xlarge",
    "vcpuNum": 48
   },
   {
    "_defaultOrder": 18,
    "_isFastLaunch": false,
    "category": "General purpose",
    "gpuNum": 0,
    "hideHardwareSpecs": false,
    "memoryGiB": 256,
    "name": "ml.m5d.16xlarge",
    "vcpuNum": 64
   },
   {
    "_defaultOrder": 19,
    "_isFastLaunch": false,
    "category": "General purpose",
    "gpuNum": 0,
    "hideHardwareSpecs": false,
    "memoryGiB": 384,
    "name": "ml.m5d.24xlarge",
    "vcpuNum": 96
   },
   {
    "_defaultOrder": 20,
    "_isFastLaunch": false,
    "category": "General purpose",
    "gpuNum": 0,
    "hideHardwareSpecs": true,
    "memoryGiB": 0,
    "name": "ml.geospatial.interactive",
    "supportedImageNames": [
     "sagemaker-geospatial-v1-0"
    ],
    "vcpuNum": 0
   },
   {
    "_defaultOrder": 21,
    "_isFastLaunch": true,
    "category": "Compute optimized",
    "gpuNum": 0,
    "hideHardwareSpecs": false,
    "memoryGiB": 4,
    "name": "ml.c5.large",
    "vcpuNum": 2
   },
   {
    "_defaultOrder": 22,
    "_isFastLaunch": false,
    "category": "Compute optimized",
    "gpuNum": 0,
    "hideHardwareSpecs": false,
    "memoryGiB": 8,
    "name": "ml.c5.xlarge",
    "vcpuNum": 4
   },
   {
    "_defaultOrder": 23,
    "_isFastLaunch": false,
    "category": "Compute optimized",
    "gpuNum": 0,
    "hideHardwareSpecs": false,
    "memoryGiB": 16,
    "name": "ml.c5.2xlarge",
    "vcpuNum": 8
   },
   {
    "_defaultOrder": 24,
    "_isFastLaunch": false,
    "category": "Compute optimized",
    "gpuNum": 0,
    "hideHardwareSpecs": false,
    "memoryGiB": 32,
    "name": "ml.c5.4xlarge",
    "vcpuNum": 16
   },
   {
    "_defaultOrder": 25,
    "_isFastLaunch": false,
    "category": "Compute optimized",
    "gpuNum": 0,
    "hideHardwareSpecs": false,
    "memoryGiB": 72,
    "name": "ml.c5.9xlarge",
    "vcpuNum": 36
   },
   {
    "_defaultOrder": 26,
    "_isFastLaunch": false,
    "category": "Compute optimized",
    "gpuNum": 0,
    "hideHardwareSpecs": false,
    "memoryGiB": 96,
    "name": "ml.c5.12xlarge",
    "vcpuNum": 48
   },
   {
    "_defaultOrder": 27,
    "_isFastLaunch": false,
    "category": "Compute optimized",
    "gpuNum": 0,
    "hideHardwareSpecs": false,
    "memoryGiB": 144,
    "name": "ml.c5.18xlarge",
    "vcpuNum": 72
   },
   {
    "_defaultOrder": 28,
    "_isFastLaunch": false,
    "category": "Compute optimized",
    "gpuNum": 0,
    "hideHardwareSpecs": false,
    "memoryGiB": 192,
    "name": "ml.c5.24xlarge",
    "vcpuNum": 96
   },
   {
    "_defaultOrder": 29,
    "_isFastLaunch": true,
    "category": "Accelerated computing",
    "gpuNum": 1,
    "hideHardwareSpecs": false,
    "memoryGiB": 16,
    "name": "ml.g4dn.xlarge",
    "vcpuNum": 4
   },
   {
    "_defaultOrder": 30,
    "_isFastLaunch": false,
    "category": "Accelerated computing",
    "gpuNum": 1,
    "hideHardwareSpecs": false,
    "memoryGiB": 32,
    "name": "ml.g4dn.2xlarge",
    "vcpuNum": 8
   },
   {
    "_defaultOrder": 31,
    "_isFastLaunch": false,
    "category": "Accelerated computing",
    "gpuNum": 1,
    "hideHardwareSpecs": false,
    "memoryGiB": 64,
    "name": "ml.g4dn.4xlarge",
    "vcpuNum": 16
   },
   {
    "_defaultOrder": 32,
    "_isFastLaunch": false,
    "category": "Accelerated computing",
    "gpuNum": 1,
    "hideHardwareSpecs": false,
    "memoryGiB": 128,
    "name": "ml.g4dn.8xlarge",
    "vcpuNum": 32
   },
   {
    "_defaultOrder": 33,
    "_isFastLaunch": false,
    "category": "Accelerated computing",
    "gpuNum": 4,
    "hideHardwareSpecs": false,
    "memoryGiB": 192,
    "name": "ml.g4dn.12xlarge",
    "vcpuNum": 48
   },
   {
    "_defaultOrder": 34,
    "_isFastLaunch": false,
    "category": "Accelerated computing",
    "gpuNum": 1,
    "hideHardwareSpecs": false,
    "memoryGiB": 256,
    "name": "ml.g4dn.16xlarge",
    "vcpuNum": 64
   },
   {
    "_defaultOrder": 35,
    "_isFastLaunch": false,
    "category": "Accelerated computing",
    "gpuNum": 1,
    "hideHardwareSpecs": false,
    "memoryGiB": 61,
    "name": "ml.p3.2xlarge",
    "vcpuNum": 8
   },
   {
    "_defaultOrder": 36,
    "_isFastLaunch": false,
    "category": "Accelerated computing",
    "gpuNum": 4,
    "hideHardwareSpecs": false,
    "memoryGiB": 244,
    "name": "ml.p3.8xlarge",
    "vcpuNum": 32
   },
   {
    "_defaultOrder": 37,
    "_isFastLaunch": false,
    "category": "Accelerated computing",
    "gpuNum": 8,
    "hideHardwareSpecs": false,
    "memoryGiB": 488,
    "name": "ml.p3.16xlarge",
    "vcpuNum": 64
   },
   {
    "_defaultOrder": 38,
    "_isFastLaunch": false,
    "category": "Accelerated computing",
    "gpuNum": 8,
    "hideHardwareSpecs": false,
    "memoryGiB": 768,
    "name": "ml.p3dn.24xlarge",
    "vcpuNum": 96
   },
   {
    "_defaultOrder": 39,
    "_isFastLaunch": false,
    "category": "Memory Optimized",
    "gpuNum": 0,
    "hideHardwareSpecs": false,
    "memoryGiB": 16,
    "name": "ml.r5.large",
    "vcpuNum": 2
   },
   {
    "_defaultOrder": 40,
    "_isFastLaunch": false,
    "category": "Memory Optimized",
    "gpuNum": 0,
    "hideHardwareSpecs": false,
    "memoryGiB": 32,
    "name": "ml.r5.xlarge",
    "vcpuNum": 4
   },
   {
    "_defaultOrder": 41,
    "_isFastLaunch": false,
    "category": "Memory Optimized",
    "gpuNum": 0,
    "hideHardwareSpecs": false,
    "memoryGiB": 64,
    "name": "ml.r5.2xlarge",
    "vcpuNum": 8
   },
   {
    "_defaultOrder": 42,
    "_isFastLaunch": false,
    "category": "Memory Optimized",
    "gpuNum": 0,
    "hideHardwareSpecs": false,
    "memoryGiB": 128,
    "name": "ml.r5.4xlarge",
    "vcpuNum": 16
   },
   {
    "_defaultOrder": 43,
    "_isFastLaunch": false,
    "category": "Memory Optimized",
    "gpuNum": 0,
    "hideHardwareSpecs": false,
    "memoryGiB": 256,
    "name": "ml.r5.8xlarge",
    "vcpuNum": 32
   },
   {
    "_defaultOrder": 44,
    "_isFastLaunch": false,
    "category": "Memory Optimized",
    "gpuNum": 0,
    "hideHardwareSpecs": false,
    "memoryGiB": 384,
    "name": "ml.r5.12xlarge",
    "vcpuNum": 48
   },
   {
    "_defaultOrder": 45,
    "_isFastLaunch": false,
    "category": "Memory Optimized",
    "gpuNum": 0,
    "hideHardwareSpecs": false,
    "memoryGiB": 512,
    "name": "ml.r5.16xlarge",
    "vcpuNum": 64
   },
   {
    "_defaultOrder": 46,
    "_isFastLaunch": false,
    "category": "Memory Optimized",
    "gpuNum": 0,
    "hideHardwareSpecs": false,
    "memoryGiB": 768,
    "name": "ml.r5.24xlarge",
    "vcpuNum": 96
   },
   {
    "_defaultOrder": 47,
    "_isFastLaunch": false,
    "category": "Accelerated computing",
    "gpuNum": 1,
    "hideHardwareSpecs": false,
    "memoryGiB": 16,
    "name": "ml.g5.xlarge",
    "vcpuNum": 4
   },
   {
    "_defaultOrder": 48,
    "_isFastLaunch": false,
    "category": "Accelerated computing",
    "gpuNum": 1,
    "hideHardwareSpecs": false,
    "memoryGiB": 32,
    "name": "ml.g5.2xlarge",
    "vcpuNum": 8
   },
   {
    "_defaultOrder": 49,
    "_isFastLaunch": false,
    "category": "Accelerated computing",
    "gpuNum": 1,
    "hideHardwareSpecs": false,
    "memoryGiB": 64,
    "name": "ml.g5.4xlarge",
    "vcpuNum": 16
   },
   {
    "_defaultOrder": 50,
    "_isFastLaunch": false,
    "category": "Accelerated computing",
    "gpuNum": 1,
    "hideHardwareSpecs": false,
    "memoryGiB": 128,
    "name": "ml.g5.8xlarge",
    "vcpuNum": 32
   },
   {
    "_defaultOrder": 51,
    "_isFastLaunch": false,
    "category": "Accelerated computing",
    "gpuNum": 1,
    "hideHardwareSpecs": false,
    "memoryGiB": 256,
    "name": "ml.g5.16xlarge",
    "vcpuNum": 64
   },
   {
    "_defaultOrder": 52,
    "_isFastLaunch": false,
    "category": "Accelerated computing",
    "gpuNum": 4,
    "hideHardwareSpecs": false,
    "memoryGiB": 192,
    "name": "ml.g5.12xlarge",
    "vcpuNum": 48
   },
   {
    "_defaultOrder": 53,
    "_isFastLaunch": false,
    "category": "Accelerated computing",
    "gpuNum": 4,
    "hideHardwareSpecs": false,
    "memoryGiB": 384,
    "name": "ml.g5.24xlarge",
    "vcpuNum": 96
   },
   {
    "_defaultOrder": 54,
    "_isFastLaunch": false,
    "category": "Accelerated computing",
    "gpuNum": 8,
    "hideHardwareSpecs": false,
    "memoryGiB": 768,
    "name": "ml.g5.48xlarge",
    "vcpuNum": 192
   },
   {
    "_defaultOrder": 55,
    "_isFastLaunch": false,
    "category": "Accelerated computing",
    "gpuNum": 8,
    "hideHardwareSpecs": false,
    "memoryGiB": 1152,
    "name": "ml.p4d.24xlarge",
    "vcpuNum": 96
   },
   {
    "_defaultOrder": 56,
    "_isFastLaunch": false,
    "category": "Accelerated computing",
    "gpuNum": 8,
    "hideHardwareSpecs": false,
    "memoryGiB": 1152,
    "name": "ml.p4de.24xlarge",
    "vcpuNum": 96
   }
  ],
  "instance_type": "ml.t3.medium",
  "kernelspec": {
   "display_name": "Python 3 (Data Science 3.0)",
   "language": "python",
   "name": "python3__SAGEMAKER_INTERNAL__arn:aws:sagemaker:eu-west-1:470317259841:image/sagemaker-data-science-310-v1"
  },
  "language_info": {
   "codemirror_mode": {
    "name": "ipython",
    "version": 3
   },
   "file_extension": ".py",
   "mimetype": "text/x-python",
   "name": "python",
   "nbconvert_exporter": "python",
   "pygments_lexer": "ipython3",
   "version": "3.10.6"
  }
 },
 "nbformat": 4,
 "nbformat_minor": 4
}
